{
 "cells": [
  {
   "cell_type": "markdown",
   "id": "d00655b9f6f777f1",
   "metadata": {},
   "source": [
    "# Hybrid Schrödinger-Feynman Simulator\n",
    "\n",
    "Hybrid Schrödinger-Feynman approaches strive to use all the available memory and processing units in order to efficiently simulate quantum circuits which would\n",
    "\n",
    "1. run into memory bottlenecks using Schrödinger-style simulation, or\n",
    "2. take exceedingly long using Feynman-style path summation,\n",
    "\n",
    "eventually trading-off the respective memory and runtime requirements."
   ]
  },
  {
   "cell_type": "raw",
   "id": "cdb85c770dc8c33b",
   "metadata": {
    "raw_mimetype": "text/restructuredtext"
   },
   "source": [
    "DDSIM offers such a simulator based on decision diagrams as proposed in :cite:p`DBLP:conf/qce/BurgholzerBW21`."
   ]
  },
  {
   "cell_type": "markdown",
   "id": "51f312ed88c153b",
   "metadata": {},
   "source": [
    "It currently assumes that no non-unitary operations (besides measurements at the end of the circuit) are present in the circuit.\n",
    "Furthermore it always measures all qubits at the end of the circuit in the order they were defined.\n",
    "\n",
    "The backend provides two different modes that can be set using the `mode` option:\n",
    "\n",
    " - `dd`: all computations are conducted on decision diagrams and the requested number of shots are sampled from the final decision diagram\n",
    " - `amplitude`: all individual paths in the hybrid simulation scheme are simulated using decision diagrams, while subsequent computations (addition of all results) is conducted using arrays. This requires more memory but can lead to significantly better runtime performance in many cases. The requested shots are sampled from the final statevector array.\n",
    "\n",
    "The number of threads to use can be set using the `nthreads` option. Note that the number of threads may be reduced when using the `amplitude` mode in order to fit the computation in the available memory."
   ]
  },
  {
   "cell_type": "code",
   "execution_count": null,
   "id": "647980a0a4f5fe2e",
   "metadata": {},
   "outputs": [],
   "source": [
    "from qiskit import QuantumCircuit\n",
    "\n",
    "qc = QuantumCircuit(4)\n",
    "\n",
    "# create a simple graph state\n",
    "qc.h(range(4))\n",
    "qc.cz(0, 2)\n",
    "qc.cz(1, 3)\n",
    "\n",
    "qc.draw(output=\"mpl\", style=\"iqp\")"
   ]
  },
  {
   "cell_type": "code",
   "execution_count": null,
   "id": "7329be0262a9d3d6",
   "metadata": {},
   "outputs": [],
   "source": [
    "from mqt.ddsim import DDSIMProvider\n",
    "\n",
    "provider = DDSIMProvider()\n",
    "\n",
    "# get the backend\n",
    "backend = provider.get_backend(\"hybrid_qasm_simulator\")\n",
    "\n",
    "# submit the job\n",
    "job = backend.run(qc, shots=1000, mode=\"dd\", nthreads=2)\n",
    "\n",
    "# get the result\n",
    "result = job.result()\n",
    "print(result.get_counts())"
   ]
  },
  {
   "cell_type": "markdown",
   "id": "be45cf686134f7eb",
   "metadata": {},
   "source": [
    "Similar to the circuit simulator, there is also a statevector simulator available. The statevector simulator can be used to obtain the full statevector of the quantum circuit at the end of the simulation.\n",
    "\n",
    "Note that `shots` has to be set to `0` when using the `amplitude` mode as the statevector array is modified in-place for sampling and, hence, the state vector is no longer available afterwards."
   ]
  },
  {
   "cell_type": "code",
   "execution_count": null,
   "id": "6fa93815018364a6",
   "metadata": {},
   "outputs": [],
   "source": [
    "from mqt.ddsim import DDSIMProvider\n",
    "\n",
    "provider = DDSIMProvider()\n",
    "\n",
    "# get the backend\n",
    "backend = provider.get_backend(\"hybrid_statevector_simulator\")\n",
    "\n",
    "# submit the job\n",
    "job = backend.run(qc, shots=0, mode=\"amplitude\", nthreads=2)\n",
    "\n",
    "# get the result\n",
    "result = job.result()\n",
    "print(result.get_statevector())"
   ]
  }
 ],
 "metadata": {
  "kernelspec": {
   "display_name": "Python 3 (ipykernel)",
   "language": "python",
   "name": "python3"
  },
  "language_info": {
   "codemirror_mode": {
    "name": "ipython",
    "version": 3
   },
   "file_extension": ".py",
   "mimetype": "text/x-python",
   "name": "python",
   "nbconvert_exporter": "python",
   "pygments_lexer": "ipython3"
  }
 },
 "nbformat": 4,
 "nbformat_minor": 5
}
