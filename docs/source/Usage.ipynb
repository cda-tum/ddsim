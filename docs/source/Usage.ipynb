{
 "cells": [
  {
   "cell_type": "markdown",
   "id": "a517773a2212f919",
   "metadata": {},
   "source": [
    "# Usage from Python\n",
    "\n",
    "MQT DDSIM is available for multiple Python versions (>=3.8) from [PyPI](https://pypi.org/project/mqt.ddsim/). \n",
    "See the [Installation guide](Installation) for more information on how to install MQT DDSIM."
   ]
  },
  {
   "cell_type": "markdown",
   "id": "3deb856baff0407",
   "metadata": {},
   "source": [
    "## Standalone Usage\n",
    "\n",
    "The classical simulation methods available in MQT DDSIM can be used in a standalone fashion.\n",
    "To this end, DDSIM currently offers four different kinds of simulators:"
   ]
  },
  {
   "cell_type": "markdown",
   "id": "e83bfda7b09df376",
   "metadata": {},
   "source": [
    "### The CircuitSimulator\n",
    "The standard, Schrödinger-style simulator. \n",
    "Takes a circuit and sequentially simulates it using decision diagrams by successively applying the operations in the circuit.\n",
    "Can be used to obtain the full statevector of the circuit or to sample from the circuit."
   ]
  },
  {
   "cell_type": "code",
   "execution_count": null,
   "id": "9e784f484d4d137e",
   "metadata": {},
   "outputs": [],
   "source": [
    "from qiskit import QuantumCircuit\n",
    "from mqt.ddsim import CircuitSimulator\n",
    "\n",
    "# A simple circuit that creates a Bell state\n",
    "circ = QuantumCircuit(2)\n",
    "circ.h(0)\n",
    "circ.cx(0, 1)\n",
    "\n",
    "# Create the simulator\n",
    "sim = CircuitSimulator(circ)\n",
    "\n",
    "# Simulate the circuit and sample 1024 shots from the resulting state\n",
    "result = sim.simulate(shots=1024)\n",
    "print(result)"
   ]
  },
  {
   "cell_type": "markdown",
   "id": "3613d6a1555e984b",
   "metadata": {},
   "source": [
    "Obtaining the full statevector is also possible:"
   ]
  },
  {
   "cell_type": "code",
   "execution_count": null,
   "id": "cb4ecf46083a8588",
   "metadata": {},
   "outputs": [],
   "source": [
    "sv = sim.get_vector()\n",
    "print(sv)"
   ]
  },
  {
   "cell_type": "markdown",
   "id": "c8aa4daa649b4f0a",
   "metadata": {},
   "source": [
    "If you want to inspect the final decision diagram, you can get a Graphviz representation of it.\n",
    "For that, make sure that you have Graphviz installed and that the `graphviz` Python package is available.\n",
    "A simple `pip install graphviz` should do the trick.\n",
    "Then, you can call the `export_dd_to_graphviz_str` method on the simulator to obtain a Graphviz representation of the decision diagram. The following shows the default configuration options for the export."
   ]
  },
  {
   "cell_type": "code",
   "execution_count": null,
   "id": "3623b43251acdb1c",
   "metadata": {},
   "outputs": [],
   "source": [
    "import graphviz\n",
    "\n",
    "dot = sim.export_dd_to_graphviz_str(colored=True, edge_labels=False, classic=False, memory=False, format_as_polar=True)\n",
    "\n",
    "graphviz.Source(source=dot)"
   ]
  },
  {
   "cell_type": "markdown",
   "id": "4e26c61591c7a434",
   "metadata": {},
   "source": [
    "### The UnitarySimulator\n",
    "\n",
    "To come soon.\n",
    "\n",
    "### The HybridCircuitSimulator\n",
    "\n",
    "To come soon.\n",
    "\n",
    "### The PathSimulator\n",
    "\n",
    "To come soon."
   ]
  },
  {
   "cell_type": "markdown",
   "id": "ef64ecb9",
   "metadata": {},
   "source": [
    "## Usage as Qiskit Backends\n",
    "\n",
    "The DDSIMProvider currently has seven backends\n",
    "\n",
    "- `QasmSimulator` simulates a circuit and generates the given number of shots\n",
    "- `StatevectorSimulator` simulates the circuit and returns the statevector\n",
    "- `HybridQasmSimulator` simulates a circuit in parallel using a hybrid Schrödinger-Feynman technique and generates the given number of shots\n",
    "- `HybridStatevectorSimulator` simulates the circuit in parallel using a hybrid Schrödinger-Feynman technique and returns the statevector\n",
    "- `PathQasmSimulator` simulates a circuit by potential using a different order of multiplying operations and operation/state and generates the requested number of shots\n",
    "- `PathStatevectorSimulator` simulates a circuit by potential using a different order of multiplying operations and operation/state and returns the statevector\n",
    "- `UnitarySimulator` constructs the unitary functionality of a circuit and returns the corresponding unitary matrix"
   ]
  },
  {
   "cell_type": "markdown",
   "id": "b806c0fb",
   "metadata": {},
   "source": [
    "### QasmSimulator for Sampling\n",
    "\n",
    "The QasmSimulator-Backend takes a QuantumCircuit object and simulates it using decision diagrams in the underlying C++ implementation.\n",
    "For circuits with no non-unitary operations (except for measurements at the end of the circuit) the simulation is only done once and the samples subsequently drawn from the decision diagram, resulting in fast runtime."
   ]
  },
  {
   "cell_type": "code",
   "execution_count": null,
   "id": "47f47e0b",
   "metadata": {},
   "outputs": [],
   "source": [
    "from qiskit import *\n",
    "\n",
    "from mqt import ddsim\n",
    "\n",
    "# Circuit to create a Bell state\n",
    "circ = QuantumCircuit(3)\n",
    "circ.h(0)\n",
    "circ.cx(0, 1)\n",
    "circ.cx(0, 2)\n",
    "circ.measure_all()\n",
    "\n",
    "# Show circuit\n",
    "print(circ.draw(fold=-1))\n",
    "\n",
    "provider = ddsim.DDSIMProvider()\n",
    "\n",
    "# get the QasmSimulator and sample 100000 times\n",
    "backend = provider.get_backend(\"qasm_simulator\")\n",
    "print(f\"Backend version: {backend.backend_version}\")\n",
    "job = execute(circ, backend, shots=100000)\n",
    "result = job.result()\n",
    "counts = result.get_counts(circ)\n",
    "print(counts)"
   ]
  },
  {
   "cell_type": "markdown",
   "id": "4ede16a7",
   "metadata": {},
   "source": [
    "### StatevectorSimulator for Observing the Statevector\n",
    "\n",
    "The StatevectorSimulator-Backend takes a QuantumCircuit as above but returns the state vector instead of a number of samples."
   ]
  },
  {
   "cell_type": "code",
   "execution_count": null,
   "id": "6d06285c",
   "metadata": {},
   "outputs": [],
   "source": [
    "# get the StatevectorSimulator and calculate the statevector\n",
    "backend = provider.get_backend(\"statevector_simulator\")\n",
    "print(f\"Backend version: {backend.backend_version}\")\n",
    "job = execute(circ, backend)\n",
    "result = job.result()\n",
    "statevector = result.get_statevector(circ)\n",
    "print(statevector)"
   ]
  },
  {
   "cell_type": "markdown",
   "id": "f08043a9",
   "metadata": {},
   "source": [
    "### HybridQasmSimulator for Sampling\n",
    "\n",
    "The HybridQasmSimulator-Backend takes a QuantumCircuit object and uses a hybrid Schrodinger-Feynman technique to simulate the circuit in parallel using decision diagrams.\n",
    "It currently assumes that no non-unitary operations (besides measurements at the end of the circuit) are present in the circuit.\n",
    "Furthermore it always measures all qubits at the end of the circuit in the order they were defined.\n",
    "\n",
    "The backend provides two different modes that can be set using the `mode` option:\n",
    "\n",
    " - `dd`: all computations are conducted on decision diagrams and the requested number of shots are sampled from the final decision diagram\n",
    " - `amplitude`: all individual paths in the hybrid simulation scheme are simulated using decision diagrams, while subsequent computations (addition of all results) is conducted using arrays. This requires more memory but can lead to significantly better runtime performance in many cases. The requested shots are sampled from the final statevector array.\n",
    "\n",
    "The number of threads to use can be set using the `nthreads` option. Note that the number of threads may be reduced when using the `amplitude` mode in order to fit the computation in the available memory."
   ]
  },
  {
   "cell_type": "code",
   "execution_count": null,
   "id": "620bcbc5",
   "metadata": {},
   "outputs": [],
   "source": [
    "# get the HybridQasmSimulator and sample 100000 times using the amplitude mode and 4 threads\n",
    "backend = provider.get_backend(\"hybrid_qasm_simulator\")\n",
    "print(f\"Backend version: {backend.backend_version}\")\n",
    "job = execute(circ, backend, shots=100000, mode=\"amplitude\", nthreads=4)\n",
    "result = job.result()\n",
    "counts = result.get_counts(circ)\n",
    "print(counts)"
   ]
  },
  {
   "cell_type": "markdown",
   "id": "48f4ce30",
   "metadata": {},
   "source": [
    "### HybridStatevectorSimulator for Observing the Statevector\n",
    "\n",
    "The HybridStatevectorSimulator-Backend provides the same options as the HybridQasmSimulator-Backend, but returns the final statevector as a result.\n",
    "Note that `shots` has to be set to `0` when using the `amplitude` mode as the statevector array is modified in-place for sampling and, hence, the state vector is no longer available afterwards."
   ]
  },
  {
   "cell_type": "code",
   "execution_count": null,
   "id": "c54a42fe",
   "metadata": {},
   "outputs": [],
   "source": [
    "# get the HybridStatevectorSimulator and calculate the statevector using the amplitude mode and 4 threads\n",
    "backend = provider.get_backend(\"hybrid_statevector_simulator\")\n",
    "print(f\"Backend version: {backend.backend_version}\")\n",
    "job = execute(circ, backend, mode=\"amplitude\", nthreads=4)\n",
    "result = job.result()\n",
    "statevector = result.get_statevector(circ)\n",
    "print(statevector)"
   ]
  },
  {
   "cell_type": "markdown",
   "id": "1dbb7dbe",
   "metadata": {},
   "source": [
    "### PathQasmSimulator for Sampling"
   ]
  },
  {
   "cell_type": "code",
   "execution_count": null,
   "id": "c5d19cd6",
   "metadata": {},
   "outputs": [],
   "source": [
    "backend = provider.get_backend(\"path_sim_qasm_simulator\")\n",
    "print(f\"Backend version: {backend.backend_version}\")\n",
    "job = execute(circ, backend, shots=100000)  # uses the sequential strategy b\n",
    "result = job.result()\n",
    "counts = result.get_counts(circ)\n",
    "print(counts)"
   ]
  },
  {
   "cell_type": "markdown",
   "id": "c72242ec",
   "metadata": {},
   "source": [
    "### UnitarySimulator for Constructing Functional Representations\n",
    "\n",
    "The UnitarySimulator-Backend takes a quantum circuit and constructs the corresponding unitary matrix using decision diagrams.\n",
    "\n",
    "The backend provides two different modes that can be set using the `mode` option:\n",
    "\n",
    " - `sequential`: construct the functionality in a sequential fashion multiplying all operations from left to right\n",
    " - `recursive`: construct the functionality recursively by grouping operations in a tree-like fashion. This might require a little more memory, but significantly less runtime in many cases"
   ]
  },
  {
   "cell_type": "code",
   "execution_count": null,
   "id": "a1870ae6",
   "metadata": {},
   "outputs": [],
   "source": [
    "# get the UnitarySimulator and calculate the unitary functionality using the recursive mode\n",
    "backend = provider.get_backend(\"unitary_simulator\")\n",
    "print(f\"Backend version: {backend.backend_version}\")\n",
    "job = execute(circ.remove_final_measurements(inplace=False), backend, mode=\"recursive\")\n",
    "result = job.result()\n",
    "unitary = result.get_unitary(circ)\n",
    "print(unitary)"
   ]
  }
 ],
 "metadata": {
  "kernelspec": {
   "display_name": "Python 3 (ipykernel)",
   "language": "python",
   "name": "python3"
  },
  "language_info": {
   "codemirror_mode": {
    "name": "ipython",
    "version": 3
   },
   "file_extension": ".py",
   "mimetype": "text/x-python",
   "name": "python",
   "nbconvert_exporter": "python",
   "pygments_lexer": "ipython3"
  }
 },
 "nbformat": 4,
 "nbformat_minor": 5
}
