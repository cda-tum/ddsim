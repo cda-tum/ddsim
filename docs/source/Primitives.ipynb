{
 "cells": [
  {
   "cell_type": "markdown",
   "id": "b6aae00d",
   "metadata": {},
   "source": [
    "# DDSIM Primitives\n",
    "\n",
    "Qiskit introduced the `qiskit.primitives` module in version 0.20.0 (Qiskit Terra 0.35.0) to provide a simplified way for end users to compute outputs of interest from a QuantumCircuit and to use backends.\n",
    "\n",
    "The two main submodules of the primitives are the `Sampler` and the `Estimator`. The first one allows you to compute quasi-probability distributions from circuit measurements, while the second one defines an abstract interface for estimating the expectation value of an observable.\n",
    "\n",
    "MQT now provides its own version of the Qiskit primitives:\n",
    "\n",
    "- `DDSIMBackendSampler` leverages the already available `QasmSimulatorBackend` from DDSIM, while preserving the methods and functionality of Qiskit's sampler.\n",
    "\n",
    "- `DDSIMEstimator` is currently in development and will be available soon.\n"
   ]
  },
  {
   "cell_type": "markdown",
   "id": "cc4eac78",
   "metadata": {},
   "source": [
    "## DDSIMBackendSampler"
   ]
  },
  {
   "cell_type": "markdown",
   "id": "4a898f0c",
   "metadata": {},
   "source": [
    "The `DDSIMBackendSampler` takes a list of `QuantumCircuit` objects and simulates them using the `QasmSimulatorBackend` from MQT DDSIM. It then computes the quasi-probability distributions of the circuits in the list and encapsulates the results, along with the job's metadata, within a `SamplerResult` object. \n",
    "\n",
    "Furthermore, it also handles transpilation and parameter binding when working with parametrized circuits.\n",
    "\n",
    "Here we show an example on how to use this submodule:"
   ]
  },
  {
   "cell_type": "code",
   "execution_count": null,
   "id": "bef3547c",
   "metadata": {},
   "outputs": [],
   "source": [
    "import numpy as np\n",
    "from qiskit import *\n",
    "\n",
    "from mqt.ddsim.sampler import DDSIMBackendSampler\n",
    "\n",
    "# Circuit to create a Bell state\n",
    "circ = QuantumCircuit(3)\n",
    "circ.h(0)\n",
    "circ.cx(0, 1)\n",
    "circ.cx(0, 2)\n",
    "circ.measure_all()\n",
    "\n",
    "# Show circuit\n",
    "print(circ.draw(fold=-1))\n",
    "\n",
    "# Initialize sampler\n",
    "sampler = DDSIMBackendSampler()\n",
    "\n",
    "# Submit job\n",
    "job = sampler.run(circ)\n",
    "result = job.result()"
   ]
  },
  {
   "cell_type": "markdown",
   "id": "563cd527",
   "metadata": {},
   "source": [
    "The `result()` method of the job returns a `SamplerResult` object, which includes both the quasi-probability distribution and job metadata."
   ]
  },
  {
   "cell_type": "code",
   "execution_count": null,
   "id": "4820227f",
   "metadata": {},
   "outputs": [],
   "source": [
    "print(f\">>> {result}\")\n",
    "print(f\"  > Quasi-probability distribution: {result.quasi_dists[0]}\")"
   ]
  },
  {
   "cell_type": "markdown",
   "id": "e74223d5",
   "metadata": {},
   "source": [
    "You can also have a list with multiple quantum circuits as an input:"
   ]
  },
  {
   "cell_type": "code",
   "execution_count": null,
   "id": "03a3e980",
   "metadata": {},
   "outputs": [],
   "source": [
    "# Create second circuit\n",
    "circ2 = QuantumCircuit(3)\n",
    "for qubit in circ2.qubits:\n",
    "    circ2.h(qubit)\n",
    "circ2.measure_all()\n",
    "\n",
    "circuits = [circ, circ2]\n",
    "\n",
    "[cir.draw(fold=-1) for cir in circuits]\n",
    "job = sampler.run(circuits)\n",
    "result = job.result()\n",
    "\n",
    "print(f\">>> Quasi-probability distribution: {result.quasi_dists}\")"
   ]
  },
  {
   "cell_type": "markdown",
   "id": "a598052e",
   "metadata": {},
   "source": [
    "Or parametrized circuits:"
   ]
  },
  {
   "cell_type": "code",
   "execution_count": null,
   "id": "55d65e6c",
   "metadata": {},
   "outputs": [],
   "source": [
    "theta_a = Parameter(\"theta_a\")\n",
    "theta_b = Parameter(\"theta_b\")\n",
    "param_circ = QuantumCircuit(1)\n",
    "param_circ.rx(theta_a, 0)\n",
    "param_circ.rz(theta_b, 0)\n",
    "param_circ.rx(theta_a, 0)\n",
    "param_circ.barrier()\n",
    "param_circ.measure_all()\n",
    "\n",
    "job = sampler.run([circuit], [[np.pi / 2, np.pi]])\n",
    "result = job.result()\n",
    "\n",
    "print(f\">>> Quasi-probability distribution: {result.quasi_dists}\")"
   ]
  }
 ],
 "metadata": {
  "kernelspec": {
   "display_name": "Python 3 (ipykernel)",
   "language": "python",
   "name": "python3"
  },
  "language_info": {
   "codemirror_mode": {
    "name": "ipython",
    "version": 3
   },
   "file_extension": ".py",
   "mimetype": "text/x-python",
   "name": "python",
   "nbconvert_exporter": "python",
   "pygments_lexer": "ipython3"
  }
 },
 "nbformat": 4,
 "nbformat_minor": 5
}
