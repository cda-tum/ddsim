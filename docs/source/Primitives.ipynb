{
 "cells": [
  {
   "cell_type": "markdown",
   "id": "b6aae00d",
   "metadata": {},
   "source": [
    "# Qiskit Primitives\n",
    "\n",
    "The existing Qiskit interface to backends (backend.run()) was originally designed to accept a list of circuits and return counts for every job. Over time, it became clear that users have diverse purposes for quantum computing, and therefore the ways in which they define the requirements for their computing jobs are expanding. \n",
    "\n",
    "To address this issue, Qiskit introduced the `qiskit.primitives` module in version 0.35.0 (Qiskit Terra 0.20.0) to provide a simplified way for end users to compute outputs of interest from a QuantumCircuit and to use backends. Qiskit's primitives provide methods that make it easier to build modular algorithms and other higher-order programs. Rather than simply returning counts, they return more immediately meaningful information.\n",
    "\n",
    "The two main submodules of the primitives are the `Sampler` and the `Estimator`. The first one computes quasi-probability distributions from circuit measurements, while the second one calculates and interprets expectation values of quantum operators that are required for many near-term quantum algorithms.\n",
    "\n",
    "MQT now provides its own version of the Qiskit primitives:\n",
    "\n",
    "- `Sampler` leverages the default circuit simulator based on decision diagrams, while preserving the methods and functionality of the original Qiskit's sampler.\n",
    "\n",
    "- `Estimator` is currently in development and will be available soon.\n"
   ]
  },
  {
   "cell_type": "markdown",
   "id": "cc4eac78",
   "metadata": {},
   "source": [
    "## Sampler"
   ]
  },
  {
   "cell_type": "markdown",
   "id": "4a898f0c",
   "metadata": {},
   "source": [
    "The `Sampler` takes a list of `QuantumCircuit` objects and simulates them using the `QasmSimulatorBackend` from MQT DDSIM. It then computes the quasi-probability distributions of the circuits in the list and encapsulates the results, along with the job's metadata, within a `SamplerResult` object. \n",
    "\n",
    "Furthermore, it also handles transpilation and parameter binding when working with parametrized circuits.\n",
    "\n",
    "Here we show an example on how to use this submodule:"
   ]
  },
  {
   "cell_type": "code",
   "execution_count": 9,
   "id": "bef3547c",
   "metadata": {},
   "outputs": [
    {
     "name": "stdout",
     "output_type": "stream",
     "text": [
      "        ┌───┐           ░ ┌─┐      \n",
      "   q_0: ┤ H ├──■────■───░─┤M├──────\n",
      "        └───┘┌─┴─┐  │   ░ └╥┘┌─┐   \n",
      "   q_1: ─────┤ X ├──┼───░──╫─┤M├───\n",
      "             └───┘┌─┴─┐ ░  ║ └╥┘┌─┐\n",
      "   q_2: ──────────┤ X ├─░──╫──╫─┤M├\n",
      "                  └───┘ ░  ║  ║ └╥┘\n",
      "meas: 3/═══════════════════╩══╩══╩═\n",
      "                           0  1  2 \n"
     ]
    }
   ],
   "source": [
    "import numpy as np\n",
    "from qiskit import *\n",
    "\n",
    "from mqt.ddsim.sampler import Sampler\n",
    "\n",
    "# Circuit to create a Bell state\n",
    "circ = QuantumCircuit(3)\n",
    "circ.h(0)\n",
    "circ.cx(0, 1)\n",
    "circ.cx(0, 2)\n",
    "circ.measure_all()\n",
    "\n",
    "# Show circuit\n",
    "print(circ.draw(fold=-1))\n",
    "\n",
    "# Initialize sampler\n",
    "sampler = Sampler()\n",
    "\n",
    "# Submit job\n",
    "job = sampler.run(circ)\n",
    "result = job.result()"
   ]
  },
  {
   "cell_type": "markdown",
   "id": "563cd527",
   "metadata": {},
   "source": [
    "The `result()` method of the job returns a `SamplerResult` object, which includes both the quasi-probability distribution and job metadata."
   ]
  },
  {
   "cell_type": "code",
   "execution_count": 10,
   "id": "4820227f",
   "metadata": {},
   "outputs": [
    {
     "name": "stdout",
     "output_type": "stream",
     "text": [
      ">>> SamplerResult(quasi_dists=[{0: 0.494140625, 7: 0.505859375}], metadata=[{'shots': 1024}])\n",
      "  > Quasi-probability distribution: {0: 0.494140625, 7: 0.505859375}\n"
     ]
    }
   ],
   "source": [
    "print(f\">>> {result}\")\n",
    "print(f\"  > Quasi-probability distribution: {result.quasi_dists[0]}\")"
   ]
  },
  {
   "cell_type": "markdown",
   "id": "e74223d5",
   "metadata": {},
   "source": [
    "You can also have a list with multiple quantum circuits as an input:"
   ]
  },
  {
   "cell_type": "code",
   "execution_count": 8,
   "id": "03a3e980",
   "metadata": {},
   "outputs": [
    {
     "name": "stdout",
     "output_type": "stream",
     "text": [
      "        ┌───┐           ░ ┌─┐      \n",
      "   q_0: ┤ H ├──■────■───░─┤M├──────\n",
      "        └───┘┌─┴─┐  │   ░ └╥┘┌─┐   \n",
      "   q_1: ─────┤ X ├──┼───░──╫─┤M├───\n",
      "             └───┘┌─┴─┐ ░  ║ └╥┘┌─┐\n",
      "   q_2: ──────────┤ X ├─░──╫──╫─┤M├\n",
      "                  └───┘ ░  ║  ║ └╥┘\n",
      "meas: 3/═══════════════════╩══╩══╩═\n",
      "                           0  1  2 \n",
      "        ┌───┐ ░ ┌─┐      \n",
      "   q_0: ┤ H ├─░─┤M├──────\n",
      "        ├───┤ ░ └╥┘┌─┐   \n",
      "   q_1: ┤ H ├─░──╫─┤M├───\n",
      "        ├───┤ ░  ║ └╥┘┌─┐\n",
      "   q_2: ┤ H ├─░──╫──╫─┤M├\n",
      "        └───┘ ░  ║  ║ └╥┘\n",
      "meas: 3/═════════╩══╩══╩═\n",
      "                 0  1  2 \n",
      ">>> Quasi-probability distribution: [{0: 0.494140625, 7: 0.505859375}, {0: 0.1083984375, 1: 0.1162109375, 2: 0.138671875, 3: 0.1279296875, 4: 0.11328125, 5: 0.1240234375, 6: 0.126953125, 7: 0.14453125}]\n"
     ]
    }
   ],
   "source": [
    "# Create second circuit\n",
    "circ2 = QuantumCircuit(3)\n",
    "for qubit in circ2.qubits:\n",
    "    circ2.h(qubit)\n",
    "circ2.measure_all()\n",
    "\n",
    "circuits = [circ, circ2]\n",
    "\n",
    "for cir in circuits:\n",
    "    print(cir.draw(fold=-1))\n",
    "\n",
    "sampler = Sampler()\n",
    "job = sampler.run(circuits)\n",
    "result = job.result()\n",
    "\n",
    "print(f\">>> Quasi-probability distribution: {result.quasi_dists}\")"
   ]
  },
  {
   "cell_type": "markdown",
   "id": "a598052e",
   "metadata": {},
   "source": [
    "Or parametrized circuits:"
   ]
  },
  {
   "cell_type": "code",
   "execution_count": 7,
   "id": "55d65e6c",
   "metadata": {},
   "outputs": [
    {
     "name": "stdout",
     "output_type": "stream",
     "text": [
      "        ┌─────────────┐┌─────────────┐┌─────────────┐ ░  ░ ┌─┐\n",
      "     q: ┤ Rx(theta_a) ├┤ Rz(theta_b) ├┤ Rx(theta_a) ├─░──░─┤M├\n",
      "        └─────────────┘└─────────────┘└─────────────┘ ░  ░ └╥┘\n",
      "meas: 1/════════════════════════════════════════════════════╩═\n",
      "                                                            0 \n",
      ">>> Quasi-probability distribution: [{0: 1.0}]\n"
     ]
    }
   ],
   "source": [
    "from qiskit.circuit import Parameter\n",
    "\n",
    "theta_a = Parameter(\"theta_a\")\n",
    "theta_b = Parameter(\"theta_b\")\n",
    "param_circ = QuantumCircuit(1)\n",
    "param_circ.rx(theta_a, 0)\n",
    "param_circ.rz(theta_b, 0)\n",
    "param_circ.rx(theta_a, 0)\n",
    "param_circ.barrier()\n",
    "param_circ.measure_all()\n",
    "\n",
    "print(param_circ.draw(fold=-1))\n",
    "\n",
    "sampler = Sampler()\n",
    "job = sampler.run([param_circ], [[np.pi / 2, np.pi]])\n",
    "result = job.result()\n",
    "\n",
    "print(f\">>> Quasi-probability distribution: {result.quasi_dists}\")"
   ]
  },
  {
   "cell_type": "code",
   "execution_count": null,
   "id": "957644d9",
   "metadata": {},
   "outputs": [],
   "source": []
  }
 ],
 "metadata": {
  "kernelspec": {
   "display_name": "Python 3 (ipykernel)",
   "language": "python",
   "name": "venv"
  },
  "language_info": {
   "codemirror_mode": {
    "name": "ipython",
    "version": 3
   },
   "file_extension": ".py",
   "mimetype": "text/x-python",
   "name": "python",
   "nbconvert_exporter": "python",
   "pygments_lexer": "ipython3",
   "version": "3.9.7"
  }
 },
 "nbformat": 4,
 "nbformat_minor": 5
}
